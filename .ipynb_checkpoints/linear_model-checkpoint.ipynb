{
 "cells": [
  {
   "cell_type": "markdown",
   "metadata": {},
   "source": [
    "# TensorFlow & Deep Learning Malaysia Meetup\n",
    "\n",
    "![](https://scontent.fkul8-1.fna.fbcdn.net/v/t31.0-8/18558599_10154402208351968_2712279408963554250_o.jpg?oh=7d6bc16a6020565ff2e9a02da10442da&oe=599CCA1B)\n",
    "\n",
    "Date: 6th July 2017 <br/>\n",
    "Title: **Explore and have fun with TensorFlow** - an introductory to TensorFlow<br/>\n",
    "Presenter: Dr. Poo Kuan Hoong, Senior Data Scientist, ADAX<br/>\n",
    "Venue: ASEAN Data Analytics Exchange (ADAX)<br/>"
   ]
  },
  {
   "cell_type": "code",
   "execution_count": 1,
   "metadata": {
    "collapsed": true
   },
   "outputs": [],
   "source": [
    "#setup Jupyter for TensorBoard inline display\n",
    "import numpy as np\n",
    "from IPython.display import clear_output, Image, display, HTML\n",
    "\n",
    "def strip_consts(graph_def, max_const_size=32):\n",
    "    \"\"\"Strip large constant values from graph_def.\"\"\"\n",
    "    strip_def = tf.GraphDef()\n",
    "    for n0 in graph_def.node:\n",
    "        n = strip_def.node.add() \n",
    "        n.MergeFrom(n0)\n",
    "        if n.op == 'Const':\n",
    "            tensor = n.attr['value'].tensor\n",
    "            size = len(tensor.tensor_content)\n",
    "            if size > max_const_size:\n",
    "                tensor.tensor_content = \"<stripped %d bytes>\"%size\n",
    "    return strip_def\n",
    "\n",
    "def show_graph(graph_def, max_const_size=32):\n",
    "    \"\"\"Visualize TensorFlow graph.\"\"\"\n",
    "    if hasattr(graph_def, 'as_graph_def'):\n",
    "        graph_def = graph_def.as_graph_def()\n",
    "    strip_def = strip_consts(graph_def, max_const_size=max_const_size)\n",
    "    code = \"\"\"\n",
    "        <script>\n",
    "          function load() {{\n",
    "            document.getElementById(\"{id}\").pbtxt = {data};\n",
    "          }}\n",
    "        </script>\n",
    "        <link rel=\"import\" href=\"https://tensorboard.appspot.com/tf-graph-basic.build.html\" onload=load()>\n",
    "        <div style=\"height:600px\">\n",
    "          <tf-graph-basic id=\"{id}\"></tf-graph-basic>\n",
    "        </div>\n",
    "    \"\"\".format(data=repr(str(strip_def)), id='graph'+str(np.random.rand()))\n",
    "\n",
    "    iframe = \"\"\"\n",
    "        <iframe seamless style=\"width:1200px;height:620px;border:0\" srcdoc=\"{}\"></iframe>\n",
    "    \"\"\".format(code.replace('\"', '&quot;'))\n",
    "    display(HTML(iframe))"
   ]
  },
  {
   "cell_type": "code",
   "execution_count": 4,
   "metadata": {},
   "outputs": [
    {
     "name": "stdout",
     "output_type": "stream",
     "text": [
      "w: -0.999766 b: 0.999102 loss: 0.000000 \n"
     ]
    }
   ],
   "source": [
    "import tensorflow as tf\n",
    "\n",
    "# build a linear model where y = w * x + b\n",
    "\n",
    "w = tf.Variable([0.2], tf.float32, name='weight')\n",
    "b = tf.Variable([0.3], tf.float32, name='bias')\n",
    "\n",
    "X = tf.placeholder(tf.float32, name=\"X\")\n",
    "Y = tf.placeholder(tf.float32, name='Y')\n",
    "\n",
    "# the training values for x and y\n",
    "x = ([2.,3.,4.,5.])\n",
    "y = ([-1.,-2.,-3.,-4.])\n",
    "\n",
    "# define the linear model\n",
    "linear_model = w*X+b\n",
    "\n",
    "# define the loss function\n",
    "square_delta = tf.square(linear_model - Y)\n",
    "loss = tf.reduce_sum(square_delta)\n",
    "\n",
    "#set the learning rate and training epoch\n",
    "learning_rate = 0.01\n",
    "training_epoch = 1000\n",
    "\n",
    "# optimizer\n",
    "optimizer = tf.train.GradientDescentOptimizer(learning_rate)\n",
    "train = optimizer.minimize(loss)\n",
    "\n",
    "# start a session\n",
    "init = tf.global_variables_initializer()\n",
    "\n",
    "with tf.Session() as sess:\n",
    "    sess.run(init)\n",
    "        \n",
    "    for i in range(training_epoch):\n",
    "        sess.run(train, feed_dict={X:x,Y:y})\n",
    "           \n",
    "    # evaluate training accuracy\n",
    "    curr_w, curr_b, curr_loss  = sess.run([w, b, loss], {X:x,Y:y})\n",
    "    print('w: %f b: %f loss: %f '%(curr_w, curr_b, curr_loss))\n"
   ]
  },
  {
   "cell_type": "code",
   "execution_count": null,
   "metadata": {
    "collapsed": true
   },
   "outputs": [],
   "source": [
    "#call to display TensorBoard\n",
    "show_graph(tf.get_default_graph().as_graph_def())"
   ]
  }
 ],
 "metadata": {
  "kernelspec": {
   "display_name": "Python 3",
   "language": "python",
   "name": "python3"
  },
  "language_info": {
   "codemirror_mode": {
    "name": "ipython",
    "version": 3
   },
   "file_extension": ".py",
   "mimetype": "text/x-python",
   "name": "python",
   "nbconvert_exporter": "python",
   "pygments_lexer": "ipython3",
   "version": "3.6.1"
  }
 },
 "nbformat": 4,
 "nbformat_minor": 2
}
